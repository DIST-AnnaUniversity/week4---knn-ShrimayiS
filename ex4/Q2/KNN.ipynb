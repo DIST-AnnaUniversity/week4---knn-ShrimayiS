{
 "cells": [
  {
   "cell_type": "code",
   "execution_count": 1,
   "id": "84f4cab5-edcd-4a28-a2ce-5dc195041b0e",
   "metadata": {},
   "outputs": [],
   "source": [
    "import warnings\n",
    "warnings.simplefilter(action='ignore', category=FutureWarning)\n",
    "import pandas as pd\n",
    "import math\n",
    "\n",
    "pd.options.mode.chained_assignment = None"
   ]
  },
  {
   "cell_type": "code",
   "execution_count": 2,
   "id": "d9a55238-a58d-4e00-8f61-533fae3b6b4d",
   "metadata": {},
   "outputs": [
    {
     "data": {
      "text/html": [
       "<div>\n",
       "<style scoped>\n",
       "    .dataframe tbody tr th:only-of-type {\n",
       "        vertical-align: middle;\n",
       "    }\n",
       "\n",
       "    .dataframe tbody tr th {\n",
       "        vertical-align: top;\n",
       "    }\n",
       "\n",
       "    .dataframe thead th {\n",
       "        text-align: right;\n",
       "    }\n",
       "</style>\n",
       "<table border=\"1\" class=\"dataframe\">\n",
       "  <thead>\n",
       "    <tr style=\"text-align: right;\">\n",
       "      <th></th>\n",
       "      <th>Pregnancies</th>\n",
       "      <th>Glucose</th>\n",
       "      <th>BloodPressure</th>\n",
       "      <th>SkinThickness</th>\n",
       "      <th>Insulin</th>\n",
       "      <th>BMI</th>\n",
       "      <th>DiabetesPedigreeFunction</th>\n",
       "      <th>Age</th>\n",
       "      <th>Outcome</th>\n",
       "    </tr>\n",
       "  </thead>\n",
       "  <tbody>\n",
       "    <tr>\n",
       "      <th>0</th>\n",
       "      <td>6</td>\n",
       "      <td>148</td>\n",
       "      <td>72</td>\n",
       "      <td>35</td>\n",
       "      <td>0</td>\n",
       "      <td>33.6</td>\n",
       "      <td>0.627</td>\n",
       "      <td>50</td>\n",
       "      <td>1</td>\n",
       "    </tr>\n",
       "    <tr>\n",
       "      <th>1</th>\n",
       "      <td>1</td>\n",
       "      <td>85</td>\n",
       "      <td>66</td>\n",
       "      <td>29</td>\n",
       "      <td>0</td>\n",
       "      <td>26.6</td>\n",
       "      <td>0.351</td>\n",
       "      <td>31</td>\n",
       "      <td>0</td>\n",
       "    </tr>\n",
       "    <tr>\n",
       "      <th>2</th>\n",
       "      <td>8</td>\n",
       "      <td>183</td>\n",
       "      <td>64</td>\n",
       "      <td>0</td>\n",
       "      <td>0</td>\n",
       "      <td>23.3</td>\n",
       "      <td>0.672</td>\n",
       "      <td>32</td>\n",
       "      <td>1</td>\n",
       "    </tr>\n",
       "    <tr>\n",
       "      <th>3</th>\n",
       "      <td>1</td>\n",
       "      <td>89</td>\n",
       "      <td>66</td>\n",
       "      <td>23</td>\n",
       "      <td>94</td>\n",
       "      <td>28.1</td>\n",
       "      <td>0.167</td>\n",
       "      <td>21</td>\n",
       "      <td>0</td>\n",
       "    </tr>\n",
       "    <tr>\n",
       "      <th>4</th>\n",
       "      <td>0</td>\n",
       "      <td>137</td>\n",
       "      <td>40</td>\n",
       "      <td>35</td>\n",
       "      <td>168</td>\n",
       "      <td>43.1</td>\n",
       "      <td>2.288</td>\n",
       "      <td>33</td>\n",
       "      <td>1</td>\n",
       "    </tr>\n",
       "  </tbody>\n",
       "</table>\n",
       "</div>"
      ],
      "text/plain": [
       "   Pregnancies  Glucose  BloodPressure  SkinThickness  Insulin   BMI  \\\n",
       "0            6      148             72             35        0  33.6   \n",
       "1            1       85             66             29        0  26.6   \n",
       "2            8      183             64              0        0  23.3   \n",
       "3            1       89             66             23       94  28.1   \n",
       "4            0      137             40             35      168  43.1   \n",
       "\n",
       "   DiabetesPedigreeFunction  Age  Outcome  \n",
       "0                     0.627   50        1  \n",
       "1                     0.351   31        0  \n",
       "2                     0.672   32        1  \n",
       "3                     0.167   21        0  \n",
       "4                     2.288   33        1  "
      ]
     },
     "execution_count": 2,
     "metadata": {},
     "output_type": "execute_result"
    }
   ],
   "source": [
    "df = pd.read_csv(\"./diabetes.csv\")\n",
    "df.head()"
   ]
  },
  {
   "cell_type": "code",
   "execution_count": 3,
   "id": "9b63a287-e404-45c3-90fb-d0ea847b6d61",
   "metadata": {},
   "outputs": [],
   "source": [
    "df1 = df[['Glucose','BloodPressure','Outcome']]"
   ]
  },
  {
   "cell_type": "code",
   "execution_count": 4,
   "id": "9244c768-c654-4c0c-966e-7bb87e8b1e9b",
   "metadata": {},
   "outputs": [],
   "source": [
    "def findMyNeighbours(df1, gulcose, bloodpressure, outcome):\n",
    "    df1['Distance'] = 0\n",
    "    df1['Distance'] = df.apply(lambda row: math.sqrt((row['Glucose'] - gulcose) ** 2  + (row['BloodPressure'] - bloodpressure) ** 2), axis=1)\n",
    "    df1['Rank'] = df1['Distance'].rank(numeric_only=True, ascending=True).astype(int)\n",
    "    predicted = df1[df1['Rank'].isin([1,2,3,4,5,6,7,8,9])]['Outcome'].mode()\n",
    "    print(f\" Test Gulcose : {gulcose} \\n Test Blood Pressure : {bloodpressure} \\n Actual Outcome :  {outcome} \\n Predicted Outcome : {predicted[0]}\")"
   ]
  },
  {
   "cell_type": "code",
   "execution_count": 5,
   "id": "cc3c6085-4da8-46d8-925c-4690897cb80f",
   "metadata": {},
   "outputs": [
    {
     "name": "stdout",
     "output_type": "stream",
     "text": [
      " Test Gulcose : 102 \n",
      " Test Blood Pressure : 76 \n",
      " Actual Outcome :  1 \n",
      " Predicted Outcome : 0\n"
     ]
    }
   ],
   "source": [
    "findMyNeighbours(df1, 102, 76, 1)"
   ]
  },
  {
   "cell_type": "code",
   "execution_count": 6,
   "id": "ef6506f0-02aa-474b-834f-d637bac74298",
   "metadata": {},
   "outputs": [
    {
     "name": "stdout",
     "output_type": "stream",
     "text": [
      " Test Gulcose : 152 \n",
      " Test Blood Pressure : 76 \n",
      " Actual Outcome :  1 \n",
      " Predicted Outcome : 1\n"
     ]
    }
   ],
   "source": [
    "findMyNeighbours(df1, 152, 76, 1)"
   ]
  },
  {
   "cell_type": "code",
   "execution_count": 7,
   "id": "f6571325-0563-4b9c-8859-5f6224171f4c",
   "metadata": {},
   "outputs": [
    {
     "name": "stdout",
     "output_type": "stream",
     "text": [
      " Test Gulcose : 134 \n",
      " Test Blood Pressure : 76 \n",
      " Actual Outcome :  1 \n",
      " Predicted Outcome : 0\n"
     ]
    }
   ],
   "source": [
    "findMyNeighbours(df1, 134, 76, 1)"
   ]
  },
  {
   "cell_type": "markdown",
   "id": "74917e7f-5b39-4b43-9064-d895d07965d6",
   "metadata": {},
   "source": [
    "### After Standardization of Glucose and BloodPressure Data"
   ]
  },
  {
   "cell_type": "code",
   "execution_count": 8,
   "id": "769539fb-ffe8-4bc3-8ecc-b62312c1813e",
   "metadata": {},
   "outputs": [],
   "source": [
    "df['GluStd'] = df['Glucose'].apply(lambda a : (a - df['Glucose'].mean())/df['Glucose'].std())"
   ]
  },
  {
   "cell_type": "code",
   "execution_count": 9,
   "id": "2299dbd8-d8f0-4174-9801-c3ddd892991b",
   "metadata": {},
   "outputs": [],
   "source": [
    "df['BPStd'] = df['BloodPressure'].apply(lambda a : (a - df['BloodPressure'].mean())/df['BloodPressure'].std())"
   ]
  },
  {
   "cell_type": "code",
   "execution_count": 10,
   "id": "42699cf2-1da2-454d-835f-a69ae627a98b",
   "metadata": {},
   "outputs": [],
   "source": [
    "df2 = df[['GluStd', 'BPStd', 'Outcome']]"
   ]
  },
  {
   "cell_type": "code",
   "execution_count": 11,
   "id": "2f9f6541-54b6-42c5-8348-eaacdd157bc6",
   "metadata": {},
   "outputs": [],
   "source": [
    "def findMyNeighboursStd(df2, gulcose, bloodpressure, outcome):\n",
    "    gulcose = (gulcose - df['Glucose'].mean())/df['Glucose'].std()\n",
    "    bloodpressure = (bloodpressure - df['BloodPressure'].mean())/df['BloodPressure'].std()\n",
    "    df2['Distance'] = 0\n",
    "    df2['Distance'] = df.apply(lambda row: math.sqrt((row['GluStd'] - gulcose) ** 2  + (row['BPStd'] - bloodpressure) ** 2), axis=1)\n",
    "    df2['Rank'] = df2['Distance'].rank(numeric_only=True, ascending=True).astype(int)\n",
    "    predicted = df2[df2['Rank'].isin([1,2,3,4,5,6,7,8,9])]['Outcome'].mode()\n",
    "    print(f\" Test Gulcose : {gulcose} \\n Test Blood Pressure : {bloodpressure} \\n Actual Outcome :  {outcome} \\n Predicted Outcome : {predicted[0]}\")"
   ]
  },
  {
   "cell_type": "code",
   "execution_count": 12,
   "id": "b906b53b-518f-4b42-9afd-c5a3f00469c4",
   "metadata": {},
   "outputs": [
    {
     "name": "stdout",
     "output_type": "stream",
     "text": [
      " Test Gulcose : -0.592005359824305 \n",
      " Test Blood Pressure : 0.3560280573005793 \n",
      " Actual Outcome :  1 \n",
      " Predicted Outcome : 0\n"
     ]
    }
   ],
   "source": [
    "findMyNeighboursStd(df2, 102, 76, 1)"
   ]
  },
  {
   "cell_type": "code",
   "execution_count": 13,
   "id": "16304b5f-defd-4b17-8c99-3341fead348f",
   "metadata": {},
   "outputs": [
    {
     "name": "stdout",
     "output_type": "stream",
     "text": [
      " Test Gulcose : 0.9715900636785938 \n",
      " Test Blood Pressure : 0.3560280573005793 \n",
      " Actual Outcome :  1 \n",
      " Predicted Outcome : 1\n"
     ]
    }
   ],
   "source": [
    "findMyNeighboursStd(df2, 152, 76, 1)"
   ]
  },
  {
   "cell_type": "code",
   "execution_count": 14,
   "id": "5b631c72-3aba-4e11-9da8-8b53c07fb446",
   "metadata": {},
   "outputs": [
    {
     "name": "stdout",
     "output_type": "stream",
     "text": [
      " Test Gulcose : 0.4086957112175502 \n",
      " Test Blood Pressure : 0.3560280573005793 \n",
      " Actual Outcome :  1 \n",
      " Predicted Outcome : 0\n"
     ]
    }
   ],
   "source": [
    "findMyNeighboursStd(df2, 134, 76, 1)"
   ]
  }
 ],
 "metadata": {
  "kernelspec": {
   "display_name": "Python 3 (ipykernel)",
   "language": "python",
   "name": "python3"
  },
  "language_info": {
   "codemirror_mode": {
    "name": "ipython",
    "version": 3
   },
   "file_extension": ".py",
   "mimetype": "text/x-python",
   "name": "python",
   "nbconvert_exporter": "python",
   "pygments_lexer": "ipython3",
   "version": "3.9.12"
  }
 },
 "nbformat": 4,
 "nbformat_minor": 5
}
