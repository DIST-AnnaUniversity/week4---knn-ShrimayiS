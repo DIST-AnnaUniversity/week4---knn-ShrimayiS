{
 "cells": [
  {
   "cell_type": "code",
   "execution_count": 3,
   "metadata": {},
   "outputs": [
    {
     "data": {
      "text/plain": [
       "'M'"
      ]
     },
     "execution_count": 3,
     "metadata": {},
     "output_type": "execute_result"
    }
   ],
   "source": [
    "import numpy as np\n",
    "import pandas as pd\n",
    "import math \n",
    "\n",
    "data={\"height\" : [158,158,158,160,160,163,163,160,163,165,165,165,168,168,168,170,170,170],\n",
    "    \"weight\" : [58,59,63,59,60,60,61,64,64,61,62\n",
    "                ,65,62,63,66,63,64,68],\n",
    "    \"size\": ['M','M','M','M','M','M','M','L','L','L','L','L','L','L','L','L','L','L']\n",
    "}\n",
    "# meanHeight=df[\"height\"].mean()\n",
    "# meanWeight=df[\"weight\"].mean()\n",
    "# stdHeight=df[\"height\"].std()\n",
    "# stdWeight=df[\"weight\"].std()\n",
    "# print (f\"Height Mean={meanHeight}\")\n",
    "# print (f\"Weight Mean={meanWeight}\")\n",
    "# print (f\"Height Standard Deviation={stdHeight}\")\n",
    "# print (f\"Weight Standard Deviation={stdWeight}\")\n",
    "# stdHMean=[]\n",
    "# stdWMean=[]\n",
    "# for x in df.index:\n",
    "#     _stdHMean=(df[\"height\"]-meanHeight)/stdHeight\n",
    "#     stdHMean.append(_stdHMean)\n",
    "# df[\"Standardized Mean\"]=stdHMean\n",
    "\n",
    "df=pd.DataFrame.from_dict(data)\n",
    "\n",
    "heightTest=161\n",
    "weighttest=61\n",
    "sizetest = []\n",
    "for x in df.index:\n",
    "    _sizetest= math.sqrt((((df[\"height\"][x])-heightTest) **2)+(((df[\"weight\"][x])-weighttest) **2))\n",
    "    sizetest.append(_sizetest)\n",
    "\n",
    "df[\"Distance\"]=sizetest\n",
    "df[\"Rank\"] = df[\"Distance\"].rank().astype(int)\n",
    "df.sort_values(by=[\"Rank\"],inplace=True)\n",
    "df[df['Rank'].isin([1,2,3,4,5])][\"size\"].mode()[0]\n",
    "# from matplotlib import pyplot as plt\n",
    "# plt.boxplot(df[\"height\"])\n"
   ]
  }
 ],
 "metadata": {
  "kernelspec": {
   "display_name": "Python 3.10.5 64-bit",
   "language": "python",
   "name": "python3"
  },
  "language_info": {
   "codemirror_mode": {
    "name": "ipython",
    "version": 3
   },
   "file_extension": ".py",
   "mimetype": "text/x-python",
   "name": "python",
   "nbconvert_exporter": "python",
   "pygments_lexer": "ipython3",
   "version": "3.10.5"
  },
  "orig_nbformat": 4,
  "vscode": {
   "interpreter": {
    "hash": "369f2c481f4da34e4445cda3fffd2e751bd1c4d706f27375911949ba6bb62e1c"
   }
  }
 },
 "nbformat": 4,
 "nbformat_minor": 2
}
